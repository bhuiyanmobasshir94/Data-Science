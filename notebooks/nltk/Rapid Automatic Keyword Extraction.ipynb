{
 "cells": [
  {
   "cell_type": "code",
   "execution_count": 1,
   "metadata": {},
   "outputs": [
    {
     "name": "stdout",
     "output_type": "stream",
     "text": [
      "Collecting rake-nltk\n",
      "  Downloading rake_nltk-1.0.4.tar.gz (7.6 kB)\n",
      "Collecting nltk\n",
      "  Downloading nltk-3.5.zip (1.4 MB)\n",
      "\u001b[K     |████████████████████████████████| 1.4 MB 11.3 MB/s eta 0:00:01\n",
      "\u001b[?25hCollecting click\n",
      "  Downloading click-7.1.2-py2.py3-none-any.whl (82 kB)\n",
      "\u001b[K     |████████████████████████████████| 82 kB 1.3 MB/s  eta 0:00:01\n",
      "\u001b[?25hCollecting joblib\n",
      "  Downloading joblib-0.16.0-py3-none-any.whl (300 kB)\n",
      "\u001b[K     |████████████████████████████████| 300 kB 60.5 MB/s eta 0:00:01\n",
      "\u001b[?25hCollecting regex\n",
      "  Downloading regex-2020.9.27-cp38-cp38-manylinux2010_x86_64.whl (675 kB)\n",
      "\u001b[K     |████████████████████████████████| 675 kB 77.6 MB/s eta 0:00:01\n",
      "\u001b[?25hRequirement already satisfied: tqdm in /home/mobasshir/anaconda3/envs/rec_eng_lab/lib/python3.8/site-packages (from nltk->rake-nltk) (4.50.0)\n",
      "Building wheels for collected packages: rake-nltk, nltk\n",
      "  Building wheel for rake-nltk (setup.py) ... \u001b[?25lerror\n",
      "\u001b[31m  ERROR: Command errored out with exit status 1:\n",
      "   command: /home/mobasshir/anaconda3/envs/rec_eng_lab/bin/python -u -c 'import sys, setuptools, tokenize; sys.argv[0] = '\"'\"'/tmp/pip-install-pldi5orh/rake-nltk/setup.py'\"'\"'; __file__='\"'\"'/tmp/pip-install-pldi5orh/rake-nltk/setup.py'\"'\"';f=getattr(tokenize, '\"'\"'open'\"'\"', open)(__file__);code=f.read().replace('\"'\"'\\r\\n'\"'\"', '\"'\"'\\n'\"'\"');f.close();exec(compile(code, __file__, '\"'\"'exec'\"'\"'))' bdist_wheel -d /tmp/pip-wheel-s85tvbh3\n",
      "       cwd: /tmp/pip-install-pldi5orh/rake-nltk/\n",
      "  Complete output (57 lines):\n",
      "  running bdist_wheel\n",
      "  running build\n",
      "  running build_py\n",
      "  creating build\n",
      "  creating build/lib\n",
      "  creating build/lib/rake_nltk\n",
      "  copying rake_nltk/__init__.py -> build/lib/rake_nltk\n",
      "  copying rake_nltk/rake.py -> build/lib/rake_nltk\n",
      "  copying rake_nltk/__version__.py -> build/lib/rake_nltk\n",
      "  installing to build/bdist.linux-x86_64/wheel\n",
      "  running install\n",
      "  running install_lib\n",
      "  creating build/bdist.linux-x86_64\n",
      "  creating build/bdist.linux-x86_64/wheel\n",
      "  creating build/bdist.linux-x86_64/wheel/rake_nltk\n",
      "  copying build/lib/rake_nltk/__init__.py -> build/bdist.linux-x86_64/wheel/rake_nltk\n",
      "  copying build/lib/rake_nltk/rake.py -> build/bdist.linux-x86_64/wheel/rake_nltk\n",
      "  copying build/lib/rake_nltk/__version__.py -> build/bdist.linux-x86_64/wheel/rake_nltk\n",
      "  running install_egg_info\n",
      "  running egg_info\n",
      "  writing rake_nltk.egg-info/PKG-INFO\n",
      "  writing dependency_links to rake_nltk.egg-info/dependency_links.txt\n",
      "  writing requirements to rake_nltk.egg-info/requires.txt\n",
      "  writing top-level names to rake_nltk.egg-info/top_level.txt\n",
      "  reading manifest file 'rake_nltk.egg-info/SOURCES.txt'\n",
      "  reading manifest template 'MANIFEST.in'\n",
      "  writing manifest file 'rake_nltk.egg-info/SOURCES.txt'\n",
      "  Copying rake_nltk.egg-info to build/bdist.linux-x86_64/wheel/rake_nltk-1.0.4-py3.8.egg-info\n",
      "  running install_scripts\n",
      "  Running post installation tasks\n",
      "  Traceback (most recent call last):\n",
      "    File \"<string>\", line 1, in <module>\n",
      "    File \"/tmp/pip-install-pldi5orh/rake-nltk/setup.py\", line 44, in <module>\n",
      "      setup(\n",
      "    File \"/home/mobasshir/anaconda3/envs/rec_eng_lab/lib/python3.8/site-packages/setuptools/__init__.py\", line 163, in setup\n",
      "      return distutils.core.setup(**attrs)\n",
      "    File \"/home/mobasshir/anaconda3/envs/rec_eng_lab/lib/python3.8/distutils/core.py\", line 148, in setup\n",
      "      dist.run_commands()\n",
      "    File \"/home/mobasshir/anaconda3/envs/rec_eng_lab/lib/python3.8/distutils/dist.py\", line 966, in run_commands\n",
      "      self.run_command(cmd)\n",
      "    File \"/home/mobasshir/anaconda3/envs/rec_eng_lab/lib/python3.8/distutils/dist.py\", line 985, in run_command\n",
      "      cmd_obj.run()\n",
      "    File \"/home/mobasshir/anaconda3/envs/rec_eng_lab/lib/python3.8/site-packages/wheel/bdist_wheel.py\", line 326, in run\n",
      "      self.run_command('install')\n",
      "    File \"/home/mobasshir/anaconda3/envs/rec_eng_lab/lib/python3.8/distutils/cmd.py\", line 313, in run_command\n",
      "      self.distribution.run_command(command)\n",
      "    File \"/home/mobasshir/anaconda3/envs/rec_eng_lab/lib/python3.8/distutils/dist.py\", line 985, in run_command\n",
      "      cmd_obj.run()\n",
      "    File \"/tmp/pip-install-pldi5orh/rake-nltk/setup.py\", line 36, in run\n",
      "      self.execute(_post_install, [], msg=\"Running post installation tasks\")\n",
      "    File \"/home/mobasshir/anaconda3/envs/rec_eng_lab/lib/python3.8/distutils/cmd.py\", line 335, in execute\n",
      "      util.execute(func, args, msg, dry_run=self.dry_run)\n",
      "    File \"/home/mobasshir/anaconda3/envs/rec_eng_lab/lib/python3.8/distutils/util.py\", line 303, in execute\n",
      "      func(*args)\n",
      "    File \"/tmp/pip-install-pldi5orh/rake-nltk/setup.py\", line 17, in _post_install\n",
      "      import nltk\n",
      "  ModuleNotFoundError: No module named 'nltk'\n",
      "  ----------------------------------------\u001b[0m\n",
      "\u001b[31m  ERROR: Failed building wheel for rake-nltk\u001b[0m\n",
      "\u001b[?25h  Running setup.py clean for rake-nltk\n",
      "  Building wheel for nltk (setup.py) ... \u001b[?25ldone\n",
      "\u001b[?25h  Created wheel for nltk: filename=nltk-3.5-py3-none-any.whl size=1434675 sha256=f8d4f08fa11104690c4e0db581baf65fe32572bcb74739fd0127a82bae8b427c\n",
      "  Stored in directory: /home/mobasshir/.cache/pip/wheels/ff/d5/7b/f1fb4e1e1603b2f01c2424dd60fbcc50c12ef918bafc44b155\n",
      "Successfully built nltk\n",
      "Failed to build rake-nltk\n",
      "Installing collected packages: click, joblib, regex, nltk, rake-nltk\n",
      "    Running setup.py install for rake-nltk ... \u001b[?25ldone\n",
      "\u001b[33m  DEPRECATION: rake-nltk was installed using the legacy 'setup.py install' method, because a wheel could not be built for it. pip 21.0 will remove support for this functionality. A possible replacement is to fix the wheel build issue reported above. You can find discussion regarding this at https://github.com/pypa/pip/issues/8368.\u001b[0m\n",
      "\u001b[?25hSuccessfully installed click-7.1.2 joblib-0.16.0 nltk-3.5 rake-nltk-1.0.4 regex-2020.9.27\n"
     ]
    }
   ],
   "source": [
    "!pip install rake-nltk"
   ]
  },
  {
   "cell_type": "markdown",
   "metadata": {},
   "source": [
    "# Basic Usage"
   ]
  },
  {
   "cell_type": "code",
   "execution_count": 2,
   "metadata": {},
   "outputs": [
    {
     "data": {
      "text/plain": [
       "['rapid automatic keyword extraction algorithm',\n",
       " 'domain independent keyword extraction algorithm',\n",
       " 'determine key phrases',\n",
       " 'word appearance',\n",
       " 'rake short',\n",
       " 'words',\n",
       " 'tries',\n",
       " 'text',\n",
       " 'occurance',\n",
       " 'frequency',\n",
       " 'co',\n",
       " 'body',\n",
       " 'analyzing']"
      ]
     },
     "execution_count": 2,
     "metadata": {},
     "output_type": "execute_result"
    }
   ],
   "source": [
    "from rake_nltk import Rake\n",
    "\n",
    "r = Rake() # Uses stopwords for english from NLTK, and all puntuation characters.\n",
    "text = 'RAKE short for Rapid Automatic Keyword Extraction algorithm, is a domain independent keyword extraction algorithm which tries to determine key phrases in a body of text by analyzing the frequency of word appearance and its co-occurance with other words in the text.'\n",
    "r.extract_keywords_from_text(text)\n",
    "\n",
    "r.get_ranked_phrases() # To get keyword phrases ranked highest to lowest."
   ]
  },
  {
   "cell_type": "code",
   "execution_count": 3,
   "metadata": {},
   "outputs": [
    {
     "data": {
      "text/plain": [
       "[(25.0, 'rapid automatic keyword extraction algorithm'),\n",
       " (25.0, 'domain independent keyword extraction algorithm'),\n",
       " (9.0, 'determine key phrases'),\n",
       " (4.0, 'word appearance'),\n",
       " (4.0, 'rake short'),\n",
       " (1.0, 'words'),\n",
       " (1.0, 'tries'),\n",
       " (1.0, 'text'),\n",
       " (1.0, 'occurance'),\n",
       " (1.0, 'frequency'),\n",
       " (1.0, 'co'),\n",
       " (1.0, 'body'),\n",
       " (1.0, 'analyzing')]"
      ]
     },
     "execution_count": 3,
     "metadata": {},
     "output_type": "execute_result"
    }
   ],
   "source": [
    "r.get_ranked_phrases_with_scores()"
   ]
  },
  {
   "cell_type": "markdown",
   "metadata": {},
   "source": [
    "# Advanced Usage"
   ]
  },
  {
   "cell_type": "markdown",
   "metadata": {},
   "source": [
    "```\n",
    "from rake_nltk import Metric, Rake\n",
    "\n",
    "# To use it with a specific language supported by nltk.\n",
    "r = Rake(language=<language>)\n",
    "\n",
    "# If you want to provide your own set of stop words and punctuations to\n",
    "r = Rake(\n",
    "    stopwords=<list of stopwords>,\n",
    "    punctuations=<string of puntuations to ignore>\n",
    ")\n",
    "\n",
    "# If you want to control the metric for ranking. Paper uses d(w)/f(w) as the\n",
    "# metric. You can use this API with the following metrics:\n",
    "# 1. d(w)/f(w) (Default metric) Ratio of degree of word to its frequency.\n",
    "# 2. d(w) Degree of word only.\n",
    "# 3. f(w) Frequency of word only.\n",
    "\n",
    "r = Rake(ranking_metric=Metric.DEGREE_TO_FREQUENCY_RATIO)\n",
    "r = Rake(ranking_metric=Metric.WORD_DEGREE)\n",
    "r = Rake(ranking_metric=Metric.WORD_FREQUENCY)\n",
    "\n",
    "# If you want to control the max or min words in a phrase, for it to be\n",
    "# considered for ranking you can initialize a Rake instance as below:\n",
    "\n",
    "r = Rake(min_length=2, max_length=4)\n",
    "```"
   ]
  },
  {
   "cell_type": "code",
   "execution_count": null,
   "metadata": {},
   "outputs": [],
   "source": []
  }
 ],
 "metadata": {
  "kernelspec": {
   "display_name": "Python 3",
   "language": "python",
   "name": "python3"
  },
  "language_info": {
   "codemirror_mode": {
    "name": "ipython",
    "version": 3
   },
   "file_extension": ".py",
   "mimetype": "text/x-python",
   "name": "python",
   "nbconvert_exporter": "python",
   "pygments_lexer": "ipython3",
   "version": "3.8.5"
  }
 },
 "nbformat": 4,
 "nbformat_minor": 4
}
