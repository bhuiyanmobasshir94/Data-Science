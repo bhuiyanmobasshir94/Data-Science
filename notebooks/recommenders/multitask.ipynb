{
 "cells": [
  {
   "cell_type": "markdown",
   "metadata": {
    "colab_type": "text",
    "id": "X80i_girFR2o"
   },
   "source": [
    "##### Copyright 2020 The TensorFlow Authors."
   ]
  },
  {
   "cell_type": "code",
   "execution_count": 1,
   "metadata": {
    "cellView": "form",
    "colab": {},
    "colab_type": "code",
    "execution": {
     "iopub.execute_input": "2020-10-01T11:40:10.294246Z",
     "iopub.status.busy": "2020-10-01T11:40:10.293516Z",
     "iopub.status.idle": "2020-10-01T11:40:10.295904Z",
     "shell.execute_reply": "2020-10-01T11:40:10.295416Z"
    },
    "id": "bB8gHCR3FVC0"
   },
   "outputs": [],
   "source": [
    "#@title Licensed under the Apache License, Version 2.0 (the \"License\");\n",
    "# you may not use this file except in compliance with the License.\n",
    "# You may obtain a copy of the License at\n",
    "#\n",
    "# https://www.apache.org/licenses/LICENSE-2.0\n",
    "#\n",
    "# Unless required by applicable law or agreed to in writing, software\n",
    "# distributed under the License is distributed on an \"AS IS\" BASIS,\n",
    "# WITHOUT WARRANTIES OR CONDITIONS OF ANY KIND, either express or implied.\n",
    "# See the License for the specific language governing permissions and\n",
    "# limitations under the License."
   ]
  },
  {
   "cell_type": "markdown",
   "metadata": {
    "colab_type": "text",
    "id": "kCeYA79m1DEX"
   },
   "source": [
    "# Multi-task recommenders\n",
    "\n",
    "<table class=\"tfo-notebook-buttons\" align=\"left\">\n",
    "  <td>\n",
    "    <a target=\"_blank\" href=\"https://www.tensorflow.org/recommenders/examples/multitask\"><img src=\"https://www.tensorflow.org/images/tf_logo_32px.png\" />View on TensorFlow.org</a>\n",
    "  </td>\n",
    "  <td>\n",
    "    <a target=\"_blank\" href=\"https://colab.research.google.com/github/tensorflow/recommenders/blob/main/docs/examples/multitask.ipynb\"><img src=\"https://www.tensorflow.org/images/colab_logo_32px.png\" />Run in Google Colab</a>\n",
    "  </td>\n",
    "  <td>\n",
    "    <a target=\"_blank\" href=\"https://github.com/tensorflow/recommenders/blob/main/docs/examples/multitask.ipynb\"><img src=\"https://www.tensorflow.org/images/GitHub-Mark-32px.png\" />View source on GitHub</a>\n",
    "  </td>\n",
    "  <td>\n",
    "    <a href=\"https://storage.googleapis.com/tensorflow_docs/recommenders/docs/examples/multitask.ipynb\"><img src=\"https://www.tensorflow.org/images/download_logo_32px.png\" />Download notebook</a>\n",
    "  </td>\n",
    "</table>"
   ]
  },
  {
   "cell_type": "markdown",
   "metadata": {
    "colab_type": "text",
    "id": "Dk8QEc4sIPMi"
   },
   "source": [
    "In the [basic retrieval tutorial](basic_retrieval) we built a retrieval system using movie watches as positive interaction signals.\n",
    "\n",
    "In many applications, however, there are multiple rich sources of feedback to draw upon. For example, an e-commerce site may record user visits to product pages (abundant, but relatively low signal), image clicks, adding to cart, and, finally, purchases. It may even record post-purchase signals such as reviews and returns.\n",
    "\n",
    "Integrating all these different forms of feedback is critical to building systems that users love to use, and that do not optimize for any one metric at the expense of overall performance.\n",
    "\n",
    "In addition, building a joint model for multiple tasks may produce better results than building a number of task-specific models. This is especially true where some data is abundant (for example, clicks), and some data is sparse (purchases, returns, manual reviews). In those scenarios, a joint model may be able to use representations learned from the abundant task to improve its predictions on the sparse task via a phenomenon known as [transfer learning](https://en.wikipedia.org/wiki/Transfer_learning). For example, [this paper](https://openreview.net/pdf?id=SJxPVcSonN) shows that a model predicting explicit user ratings from sparse user surveys can be substantially improved by adding an auxiliary task that uses abundant click log data.\n",
    "\n",
    "In this tutorial, we are going to build a multi-objective recommender for Movielens, using both implicit (movie watches) and explicit signals (ratings)."
   ]
  },
  {
   "cell_type": "markdown",
   "metadata": {
    "colab_type": "text",
    "id": "ZwrcZeK7x7xI"
   },
   "source": [
    "## Imports\n",
    "\n",
    "\n",
    "Let's first get our imports out of the way.\n"
   ]
  },
  {
   "cell_type": "code",
   "execution_count": 1,
   "metadata": {
    "colab": {},
    "colab_type": "code",
    "execution": {
     "iopub.execute_input": "2020-10-01T11:40:10.300994Z",
     "iopub.status.busy": "2020-10-01T11:40:10.300286Z",
     "iopub.status.idle": "2020-10-01T11:40:13.203014Z",
     "shell.execute_reply": "2020-10-01T11:40:13.203447Z"
    },
    "id": "izzoRqkGb2Zc"
   },
   "outputs": [],
   "source": [
    "!pip install -q tensorflow-recommenders\n",
    "!pip install -q --upgrade tensorflow-datasets"
   ]
  },
  {
   "cell_type": "code",
   "execution_count": 2,
   "metadata": {
    "colab": {},
    "colab_type": "code",
    "execution": {
     "iopub.execute_input": "2020-10-01T11:40:13.208296Z",
     "iopub.status.busy": "2020-10-01T11:40:13.207656Z",
     "iopub.status.idle": "2020-10-01T11:40:19.448465Z",
     "shell.execute_reply": "2020-10-01T11:40:19.447881Z"
    },
    "id": "SZGYDaF-m5wZ"
   },
   "outputs": [],
   "source": [
    "import os\n",
    "import pprint\n",
    "import tempfile\n",
    "\n",
    "from typing import Dict, Text\n",
    "\n",
    "import numpy as np\n",
    "import tensorflow as tf\n",
    "import tensorflow_datasets as tfds"
   ]
  },
  {
   "cell_type": "code",
   "execution_count": 3,
   "metadata": {
    "colab": {},
    "colab_type": "code",
    "execution": {
     "iopub.execute_input": "2020-10-01T11:40:19.452849Z",
     "iopub.status.busy": "2020-10-01T11:40:19.452153Z",
     "iopub.status.idle": "2020-10-01T11:40:19.460153Z",
     "shell.execute_reply": "2020-10-01T11:40:19.459665Z"
    },
    "id": "BxQ_hy7xPH3N"
   },
   "outputs": [],
   "source": [
    "import tensorflow_recommenders as tfrs"
   ]
  },
  {
   "cell_type": "markdown",
   "metadata": {
    "colab_type": "text",
    "id": "5PAqjR4a1RR4"
   },
   "source": [
    "## Preparing the dataset\n",
    "\n",
    "We're going to use the Movielens 100K dataset."
   ]
  },
  {
   "cell_type": "code",
   "execution_count": 4,
   "metadata": {
    "colab": {},
    "colab_type": "code",
    "execution": {
     "iopub.execute_input": "2020-10-01T11:40:19.466188Z",
     "iopub.status.busy": "2020-10-01T11:40:19.464888Z",
     "iopub.status.idle": "2020-10-01T11:40:19.661373Z",
     "shell.execute_reply": "2020-10-01T11:40:19.661812Z"
    },
    "id": "-ySWtibjm_6a"
   },
   "outputs": [],
   "source": [
    "ratings = tfds.load('movie_lens/100k-ratings', split=\"train\")\n",
    "movies = tfds.load('movie_lens/100k-movies', split=\"train\")\n",
    "\n",
    "# Select the basic features.\n",
    "ratings = ratings.map(lambda x: {\n",
    "    \"movie_title\": x[\"movie_title\"],\n",
    "    \"user_id\": x[\"user_id\"],\n",
    "    \"user_rating\": x[\"user_rating\"],\n",
    "})\n",
    "movies = movies.map(lambda x: x[\"movie_title\"])"
   ]
  },
  {
   "cell_type": "markdown",
   "metadata": {
    "colab_type": "text",
    "id": "JRHorm8W1yf3"
   },
   "source": [
    "And repeat our preparations for building vocabularies and splitting the data into a train and a test set:"
   ]
  },
  {
   "cell_type": "code",
   "execution_count": 5,
   "metadata": {
    "colab": {},
    "colab_type": "code",
    "execution": {
     "iopub.execute_input": "2020-10-01T11:40:19.668097Z",
     "iopub.status.busy": "2020-10-01T11:40:19.667491Z",
     "iopub.status.idle": "2020-10-01T11:40:24.075296Z",
     "shell.execute_reply": "2020-10-01T11:40:24.074674Z"
    },
    "id": "rS0eDfkjnjJL"
   },
   "outputs": [],
   "source": [
    "# Randomly shuffle data and split between train and test.\n",
    "tf.random.set_seed(42)\n",
    "shuffled = ratings.shuffle(100_000, seed=42, reshuffle_each_iteration=False)\n",
    "\n",
    "train = shuffled.take(80_000)\n",
    "test = shuffled.skip(80_000).take(20_000)\n",
    "\n",
    "movie_titles = movies.batch(1_000)\n",
    "user_ids = ratings.batch(1_000_000).map(lambda x: x[\"user_id\"])\n",
    "\n",
    "unique_movie_titles = np.unique(np.concatenate(list(movie_titles)))\n",
    "unique_user_ids = np.unique(np.concatenate(list(user_ids)))"
   ]
  },
  {
   "cell_type": "markdown",
   "metadata": {
    "colab_type": "text",
    "id": "eCi-seR86qqa"
   },
   "source": [
    "## A multi-task model\n",
    "\n",
    "There are two critical parts to multi-task recommenders:\n",
    "\n",
    "1. They optimize for two or more objectives, and so have two or more losses.\n",
    "2. They share variables between the tasks, allowing for transfer learning.\n",
    "\n",
    "In this tutorial, we will define our models as before, but instead of having  a single task, we will have two tasks: one that predicts ratings, and one that predicts movie watches."
   ]
  },
  {
   "cell_type": "markdown",
   "metadata": {
    "colab_type": "text",
    "id": "AXHrk_SLzKCM"
   },
   "source": [
    "The user and movie models are as before:\n",
    "\n",
    "```python\n",
    "user_model = tf.keras.Sequential([\n",
    "  tf.keras.layers.experimental.preprocessing.StringLookup(\n",
    "      vocabulary=unique_user_ids),\n",
    "  # We add 2 to account for unknown and mask tokens.\n",
    "  tf.keras.layers.Embedding(len(unique_user_ids) + 2, embedding_dimension)\n",
    "])\n",
    "\n",
    "movie_model = tf.keras.Sequential([\n",
    "  tf.keras.layers.experimental.preprocessing.StringLookup(\n",
    "      vocabulary=unique_movie_titles),\n",
    "  tf.keras.layers.Embedding(len(unique_movie_titles) + 2, embedding_dimension)\n",
    "])\n",
    "```"
   ]
  },
  {
   "cell_type": "markdown",
   "metadata": {
    "colab_type": "text",
    "id": "cWCwkE5z8QBe"
   },
   "source": [
    "However, now we will have two tasks. The first is the rating task:\n",
    "\n",
    "```python\n",
    "tfrs.tasks.Ranking(\n",
    "    loss=tf.keras.losses.MeanSquaredError(),\n",
    "    metrics=[tf.keras.metrics.RootMeanSquaredError()],\n",
    ")\n",
    "```"
   ]
  },
  {
   "cell_type": "markdown",
   "metadata": {
    "colab_type": "text",
    "id": "xrgQIXEm8UWf"
   },
   "source": [
    "Its goal is to predict the ratings as accurately as possible.\n",
    "\n",
    "The second is the retrieval task:\n",
    "\n",
    "```python\n",
    "tfrs.tasks.Retrieval(\n",
    "    metrics=tfrs.metrics.FactorizedTopK(\n",
    "        candidates=movies.batch(128)\n",
    "    )\n",
    ")\n",
    "```"
   ]
  },
  {
   "cell_type": "markdown",
   "metadata": {
    "colab_type": "text",
    "id": "SCNrv7_gakmF"
   },
   "source": [
    "As before, this task's goal is to predict which movies the user will or will not watch."
   ]
  },
  {
   "cell_type": "markdown",
   "metadata": {
    "colab_type": "text",
    "id": "DSWw3xuq8mGh"
   },
   "source": [
    "### Putting it together\n",
    "\n",
    "We put it all together in a model class.\n",
    "\n",
    "The new component here is that - since we have two tasks and two losses - we need to decide on how important each loss is. We can do this by giving each of the losses a weight, and treating these weights as hyperparameters. If we assign a large loss weight to the rating task, our model is going to focus on predicting ratings (but still use some information from the retrieval task); if we assign a large loss weight to the retrieval task, it will focus on retrieval instead."
   ]
  },
  {
   "cell_type": "code",
   "execution_count": 6,
   "metadata": {
    "colab": {},
    "colab_type": "code",
    "execution": {
     "iopub.execute_input": "2020-10-01T11:40:24.090438Z",
     "iopub.status.busy": "2020-10-01T11:40:24.089358Z",
     "iopub.status.idle": "2020-10-01T11:40:24.091956Z",
     "shell.execute_reply": "2020-10-01T11:40:24.091515Z"
    },
    "id": "YFSkOAMgzU0K"
   },
   "outputs": [],
   "source": [
    "class MovielensModel(tfrs.models.Model):\n",
    "\n",
    "    def __init__(self, rating_weight: float, retrieval_weight: float) -> None:\n",
    "        # We take the loss weights in the constructor: this allows us to instantiate\n",
    "        # several model objects with different loss weights.\n",
    "\n",
    "        super().__init__()\n",
    "\n",
    "        embedding_dimension = 32\n",
    "\n",
    "        # User and movie models.\n",
    "        self.movie_model: tf.keras.layers.Layer = tf.keras.Sequential([\n",
    "          tf.keras.layers.experimental.preprocessing.StringLookup(\n",
    "            vocabulary=unique_movie_titles, mask_token=None),\n",
    "          tf.keras.layers.Embedding(len(unique_movie_titles) + 1, embedding_dimension)\n",
    "        ])\n",
    "        self.user_model: tf.keras.layers.Layer = tf.keras.Sequential([\n",
    "          tf.keras.layers.experimental.preprocessing.StringLookup(\n",
    "            vocabulary=unique_user_ids, mask_token=None),\n",
    "          tf.keras.layers.Embedding(len(unique_user_ids) + 1, embedding_dimension)\n",
    "        ])\n",
    "\n",
    "        # A small model to take in user and movie embeddings and predict ratings.\n",
    "        # We can make this as complicated as we want as long as we output a scalar\n",
    "        # as our prediction.\n",
    "        self.rating_model = tf.keras.Sequential([\n",
    "            tf.keras.layers.Dense(256, activation=\"relu\"),\n",
    "            tf.keras.layers.Dense(128, activation=\"relu\"),\n",
    "            tf.keras.layers.Dense(1),\n",
    "        ])\n",
    "\n",
    "        # The tasks.\n",
    "        self.rating_task: tf.keras.layers.Layer = tfrs.tasks.Ranking(\n",
    "            loss=tf.keras.losses.MeanSquaredError(),\n",
    "            metrics=[tf.keras.metrics.RootMeanSquaredError()],\n",
    "        )\n",
    "        self.retrieval_task: tf.keras.layers.Layer = tfrs.tasks.Retrieval(\n",
    "            metrics=tfrs.metrics.FactorizedTopK(\n",
    "                candidates=movies.batch(128).map(self.movie_model)\n",
    "            )\n",
    "        )\n",
    "\n",
    "        # The loss weights.\n",
    "        self.rating_weight = rating_weight\n",
    "        self.retrieval_weight = retrieval_weight\n",
    "\n",
    "    def call(self, features: Dict[Text, tf.Tensor]) -> tf.Tensor:\n",
    "        # We pick out the user features and pass them into the user model.\n",
    "        user_embeddings = self.user_model(features[\"user_id\"])\n",
    "        # And pick out the movie features and pass them into the movie model.\n",
    "        movie_embeddings = self.movie_model(features[\"movie_title\"])\n",
    "\n",
    "        return (\n",
    "            user_embeddings,\n",
    "            movie_embeddings,\n",
    "            # We apply the multi-layered rating model to a concatentation of\n",
    "            # user and movie embeddings.\n",
    "            self.rating_model(\n",
    "                tf.concat([user_embeddings, movie_embeddings], axis=1)\n",
    "            ),\n",
    "        )\n",
    "\n",
    "    def compute_loss(self, features: Dict[Text, tf.Tensor], training=False) -> tf.Tensor:\n",
    "\n",
    "        user_embeddings, movie_embeddings, rating_predictions = self(features)\n",
    "\n",
    "        # We compute the loss for each task.\n",
    "        rating_loss = self.rating_task(\n",
    "            labels=features[\"user_rating\"],\n",
    "            predictions=rating_predictions,\n",
    "        )\n",
    "        retrieval_loss = self.retrieval_task(user_embeddings, movie_embeddings)\n",
    "\n",
    "        # And combine them using the loss weights.\n",
    "        return (self.rating_weight * rating_loss\n",
    "                + self.retrieval_weight * retrieval_loss)"
   ]
  },
  {
   "cell_type": "markdown",
   "metadata": {
    "colab_type": "text",
    "id": "ngvn-c0b8lc2"
   },
   "source": [
    "### Rating-specialized model\n",
    "\n",
    "Depending on the weights we assign, the model will encode a different balance of the tasks. Let's start with a model that only considers ratings."
   ]
  },
  {
   "cell_type": "code",
   "execution_count": 7,
   "metadata": {
    "colab": {},
    "colab_type": "code",
    "execution": {
     "iopub.execute_input": "2020-10-01T11:40:24.097047Z",
     "iopub.status.busy": "2020-10-01T11:40:24.096088Z",
     "iopub.status.idle": "2020-10-01T11:40:24.208903Z",
     "shell.execute_reply": "2020-10-01T11:40:24.209309Z"
    },
    "id": "NNfB6rYL0VrS"
   },
   "outputs": [],
   "source": [
    "model = MovielensModel(rating_weight=1.0, retrieval_weight=0.0)\n",
    "model.compile(optimizer=tf.keras.optimizers.Adagrad(0.1))"
   ]
  },
  {
   "cell_type": "code",
   "execution_count": 8,
   "metadata": {
    "colab": {},
    "colab_type": "code",
    "execution": {
     "iopub.execute_input": "2020-10-01T11:40:24.214726Z",
     "iopub.status.busy": "2020-10-01T11:40:24.213660Z",
     "iopub.status.idle": "2020-10-01T11:40:24.218123Z",
     "shell.execute_reply": "2020-10-01T11:40:24.217653Z"
    },
    "id": "I6kjfF1j0iZR"
   },
   "outputs": [],
   "source": [
    "cached_train = train.shuffle(100_000).batch(8192).cache()\n",
    "cached_test = test.batch(4096).cache()"
   ]
  },
  {
   "cell_type": "code",
   "execution_count": 9,
   "metadata": {
    "colab": {},
    "colab_type": "code",
    "execution": {
     "iopub.execute_input": "2020-10-01T11:40:24.224542Z",
     "iopub.status.busy": "2020-10-01T11:40:24.222405Z",
     "iopub.status.idle": "2020-10-01T11:40:34.794639Z",
     "shell.execute_reply": "2020-10-01T11:40:34.795087Z"
    },
    "id": "6NWadH1q0c_T"
   },
   "outputs": [
    {
     "name": "stdout",
     "output_type": "stream",
     "text": [
      "Epoch 1/10\n",
      "10/10 [==============================] - 4s 354ms/step - root_mean_squared_error: 2.0903 - factorized_top_k: 0.0194 - factorized_top_k/top_1_categorical_accuracy: 3.8750e-04 - factorized_top_k/top_5_categorical_accuracy: 0.0025 - factorized_top_k/top_10_categorical_accuracy: 0.0055 - factorized_top_k/top_50_categorical_accuracy: 0.0295 - factorized_top_k/top_100_categorical_accuracy: 0.0590 - loss: 4.0315 - regularization_loss: 0.0000e+00 - total_loss: 4.0315\n",
      "Epoch 2/10\n",
      "10/10 [==============================] - 3s 333ms/step - root_mean_squared_error: 1.1531 - factorized_top_k: 0.0195 - factorized_top_k/top_1_categorical_accuracy: 3.2500e-04 - factorized_top_k/top_5_categorical_accuracy: 0.0025 - factorized_top_k/top_10_categorical_accuracy: 0.0055 - factorized_top_k/top_50_categorical_accuracy: 0.0297 - factorized_top_k/top_100_categorical_accuracy: 0.0593 - loss: 1.3189 - regularization_loss: 0.0000e+00 - total_loss: 1.3189\n",
      "Epoch 3/10\n",
      "10/10 [==============================] - 3s 334ms/step - root_mean_squared_error: 1.1198 - factorized_top_k: 0.0197 - factorized_top_k/top_1_categorical_accuracy: 4.0000e-04 - factorized_top_k/top_5_categorical_accuracy: 0.0026 - factorized_top_k/top_10_categorical_accuracy: 0.0056 - factorized_top_k/top_50_categorical_accuracy: 0.0302 - factorized_top_k/top_100_categorical_accuracy: 0.0598 - loss: 1.2479 - regularization_loss: 0.0000e+00 - total_loss: 1.2479\n",
      "Epoch 4/10\n",
      "10/10 [==============================] - 3s 332ms/step - root_mean_squared_error: 1.1092 - factorized_top_k: 0.0200 - factorized_top_k/top_1_categorical_accuracy: 4.1250e-04 - factorized_top_k/top_5_categorical_accuracy: 0.0026 - factorized_top_k/top_10_categorical_accuracy: 0.0056 - factorized_top_k/top_50_categorical_accuracy: 0.0306 - factorized_top_k/top_100_categorical_accuracy: 0.0608 - loss: 1.2243 - regularization_loss: 0.0000e+00 - total_loss: 1.2243\n",
      "Epoch 5/10\n",
      "10/10 [==============================] - 3s 336ms/step - root_mean_squared_error: 1.0967 - factorized_top_k: 0.0205 - factorized_top_k/top_1_categorical_accuracy: 3.3750e-04 - factorized_top_k/top_5_categorical_accuracy: 0.0029 - factorized_top_k/top_10_categorical_accuracy: 0.0059 - factorized_top_k/top_50_categorical_accuracy: 0.0311 - factorized_top_k/top_100_categorical_accuracy: 0.0624 - loss: 1.1961 - regularization_loss: 0.0000e+00 - total_loss: 1.1961\n",
      "Epoch 6/10\n",
      "10/10 [==============================] - 3s 327ms/step - root_mean_squared_error: 1.0776 - factorized_top_k: 0.0213 - factorized_top_k/top_1_categorical_accuracy: 4.1250e-04 - factorized_top_k/top_5_categorical_accuracy: 0.0032 - factorized_top_k/top_10_categorical_accuracy: 0.0066 - factorized_top_k/top_50_categorical_accuracy: 0.0324 - factorized_top_k/top_100_categorical_accuracy: 0.0638 - loss: 1.1539 - regularization_loss: 0.0000e+00 - total_loss: 1.1539\n",
      "Epoch 7/10\n",
      "10/10 [==============================] - 3s 346ms/step - root_mean_squared_error: 1.0577 - factorized_top_k: 0.0223 - factorized_top_k/top_1_categorical_accuracy: 5.1250e-04 - factorized_top_k/top_5_categorical_accuracy: 0.0035 - factorized_top_k/top_10_categorical_accuracy: 0.0071 - factorized_top_k/top_50_categorical_accuracy: 0.0341 - factorized_top_k/top_100_categorical_accuracy: 0.0661 - loss: 1.1147 - regularization_loss: 0.0000e+00 - total_loss: 1.1147\n",
      "Epoch 8/10\n",
      "10/10 [==============================] - 3s 332ms/step - root_mean_squared_error: 1.1065 - factorized_top_k: 0.0231 - factorized_top_k/top_1_categorical_accuracy: 4.8750e-04 - factorized_top_k/top_5_categorical_accuracy: 0.0039 - factorized_top_k/top_10_categorical_accuracy: 0.0076 - factorized_top_k/top_50_categorical_accuracy: 0.0356 - factorized_top_k/top_100_categorical_accuracy: 0.0681 - loss: 1.2127 - regularization_loss: 0.0000e+00 - total_loss: 1.2127\n",
      "Epoch 9/10\n",
      "10/10 [==============================] - 3s 338ms/step - root_mean_squared_error: 1.0278 - factorized_top_k: 0.0239 - factorized_top_k/top_1_categorical_accuracy: 6.6250e-04 - factorized_top_k/top_5_categorical_accuracy: 0.0041 - factorized_top_k/top_10_categorical_accuracy: 0.0082 - factorized_top_k/top_50_categorical_accuracy: 0.0366 - factorized_top_k/top_100_categorical_accuracy: 0.0699 - loss: 1.0469 - regularization_loss: 0.0000e+00 - total_loss: 1.0469\n",
      "Epoch 10/10\n",
      "10/10 [==============================] - 3s 333ms/step - root_mean_squared_error: 0.9959 - factorized_top_k: 0.0244 - factorized_top_k/top_1_categorical_accuracy: 6.2500e-04 - factorized_top_k/top_5_categorical_accuracy: 0.0042 - factorized_top_k/top_10_categorical_accuracy: 0.0082 - factorized_top_k/top_50_categorical_accuracy: 0.0377 - factorized_top_k/top_100_categorical_accuracy: 0.0711 - loss: 0.9867 - regularization_loss: 0.0000e+00 - total_loss: 0.9867\n",
      "5/5 [==============================] - 0s 98ms/step - root_mean_squared_error: 0.9974 - factorized_top_k: 0.0242 - factorized_top_k/top_1_categorical_accuracy: 6.0000e-04 - factorized_top_k/top_5_categorical_accuracy: 0.0046 - factorized_top_k/top_10_categorical_accuracy: 0.0089 - factorized_top_k/top_50_categorical_accuracy: 0.0368 - factorized_top_k/top_100_categorical_accuracy: 0.0703 - loss: 0.9925 - regularization_loss: 0.0000e+00 - total_loss: 0.9925\n",
      "Retrieval top-100 accuracy: 0.070.\n",
      "Ranking RMSE: 0.997.\n"
     ]
    }
   ],
   "source": [
    "model.fit(cached_train, epochs=10)\n",
    "metrics = model.evaluate(cached_test, return_dict=True)\n",
    "\n",
    "print(f\"Retrieval top-100 accuracy: {metrics['factorized_top_k/top_100_categorical_accuracy']:.3f}.\")\n",
    "print(f\"Ranking RMSE: {metrics['root_mean_squared_error']:.3f}.\")"
   ]
  },
  {
   "cell_type": "markdown",
   "metadata": {
    "colab_type": "text",
    "id": "lENViv04-i0T"
   },
   "source": [
    "The model does OK on predicting ratings (with an RMSE of around 1.11), but performs poorly at predicting which movies will be watched or not: its accuracy at 100 is almost 4 times worse than a model trained solely to predict watches."
   ]
  },
  {
   "cell_type": "markdown",
   "metadata": {
    "colab_type": "text",
    "id": "yPYd9LtE-4Fm"
   },
   "source": [
    "### Retrieval-specialized model\n",
    "\n",
    "Let's now try a model that focuses on retrieval only."
   ]
  },
  {
   "cell_type": "code",
   "execution_count": 10,
   "metadata": {
    "colab": {},
    "colab_type": "code",
    "execution": {
     "iopub.execute_input": "2020-10-01T11:40:34.802011Z",
     "iopub.status.busy": "2020-10-01T11:40:34.801364Z",
     "iopub.status.idle": "2020-10-01T11:40:34.880159Z",
     "shell.execute_reply": "2020-10-01T11:40:34.880604Z"
    },
    "id": "BfnkGd2G--Qt"
   },
   "outputs": [],
   "source": [
    "model = MovielensModel(rating_weight=0.0, retrieval_weight=1.0)\n",
    "model.compile(optimizer=tf.keras.optimizers.Adagrad(0.1))"
   ]
  },
  {
   "cell_type": "code",
   "execution_count": 11,
   "metadata": {
    "colab": {},
    "colab_type": "code",
    "execution": {
     "iopub.execute_input": "2020-10-01T11:40:34.885752Z",
     "iopub.status.busy": "2020-10-01T11:40:34.885085Z",
     "iopub.status.idle": "2020-10-01T11:40:43.529993Z",
     "shell.execute_reply": "2020-10-01T11:40:43.529387Z"
    },
    "id": "JCCBdM7U_B11"
   },
   "outputs": [
    {
     "name": "stdout",
     "output_type": "stream",
     "text": [
      "Epoch 1/10\n",
      "10/10 [==============================] - 3s 335ms/step - root_mean_squared_error: 3.7237 - factorized_top_k: 0.0624 - factorized_top_k/top_1_categorical_accuracy: 0.0011 - factorized_top_k/top_5_categorical_accuracy: 0.0097 - factorized_top_k/top_10_categorical_accuracy: 0.0206 - factorized_top_k/top_50_categorical_accuracy: 0.1008 - factorized_top_k/top_100_categorical_accuracy: 0.1798 - loss: 69818.0284 - regularization_loss: 0.0000e+00 - total_loss: 69818.0284\n",
      "Epoch 2/10\n",
      "10/10 [==============================] - 3s 330ms/step - root_mean_squared_error: 3.7495 - factorized_top_k: 0.1041 - factorized_top_k/top_1_categorical_accuracy: 0.0029 - factorized_top_k/top_5_categorical_accuracy: 0.0188 - factorized_top_k/top_10_categorical_accuracy: 0.0380 - factorized_top_k/top_50_categorical_accuracy: 0.1686 - factorized_top_k/top_100_categorical_accuracy: 0.2925 - loss: 67473.2884 - regularization_loss: 0.0000e+00 - total_loss: 67473.2884\n",
      "Epoch 3/10\n",
      "10/10 [==============================] - 3s 332ms/step - root_mean_squared_error: 3.7648 - factorized_top_k: 0.1145 - factorized_top_k/top_1_categorical_accuracy: 0.0032 - factorized_top_k/top_5_categorical_accuracy: 0.0221 - factorized_top_k/top_10_categorical_accuracy: 0.0451 - factorized_top_k/top_50_categorical_accuracy: 0.1875 - factorized_top_k/top_100_categorical_accuracy: 0.3149 - loss: 66329.2514 - regularization_loss: 0.0000e+00 - total_loss: 66329.2514\n",
      "Epoch 4/10\n",
      "10/10 [==============================] - 3s 337ms/step - root_mean_squared_error: 3.7738 - factorized_top_k: 0.1225 - factorized_top_k/top_1_categorical_accuracy: 0.0037 - factorized_top_k/top_5_categorical_accuracy: 0.0253 - factorized_top_k/top_10_categorical_accuracy: 0.0499 - factorized_top_k/top_50_categorical_accuracy: 0.2021 - factorized_top_k/top_100_categorical_accuracy: 0.3314 - loss: 65648.4055 - regularization_loss: 0.0000e+00 - total_loss: 65648.4055\n",
      "Epoch 5/10\n",
      "10/10 [==============================] - 3s 329ms/step - root_mean_squared_error: 3.7800 - factorized_top_k: 0.1295 - factorized_top_k/top_1_categorical_accuracy: 0.0044 - factorized_top_k/top_5_categorical_accuracy: 0.0280 - factorized_top_k/top_10_categorical_accuracy: 0.0544 - factorized_top_k/top_50_categorical_accuracy: 0.2140 - factorized_top_k/top_100_categorical_accuracy: 0.3465 - loss: 65151.3423 - regularization_loss: 0.0000e+00 - total_loss: 65151.3423\n",
      "Epoch 6/10\n",
      "10/10 [==============================] - 3s 332ms/step - root_mean_squared_error: 3.7845 - factorized_top_k: 0.1346 - factorized_top_k/top_1_categorical_accuracy: 0.0043 - factorized_top_k/top_5_categorical_accuracy: 0.0297 - factorized_top_k/top_10_categorical_accuracy: 0.0578 - factorized_top_k/top_50_categorical_accuracy: 0.2229 - factorized_top_k/top_100_categorical_accuracy: 0.3584 - loss: 64762.7756 - regularization_loss: 0.0000e+00 - total_loss: 64762.7756\n",
      "Epoch 7/10\n",
      "10/10 [==============================] - 3s 329ms/step - root_mean_squared_error: 3.7881 - factorized_top_k: 0.1392 - factorized_top_k/top_1_categorical_accuracy: 0.0047 - factorized_top_k/top_5_categorical_accuracy: 0.0312 - factorized_top_k/top_10_categorical_accuracy: 0.0613 - factorized_top_k/top_50_categorical_accuracy: 0.2310 - factorized_top_k/top_100_categorical_accuracy: 0.3679 - loss: 64449.2607 - regularization_loss: 0.0000e+00 - total_loss: 64449.2607\n",
      "Epoch 8/10\n",
      "10/10 [==============================] - 3s 331ms/step - root_mean_squared_error: 3.7909 - factorized_top_k: 0.1427 - factorized_top_k/top_1_categorical_accuracy: 0.0046 - factorized_top_k/top_5_categorical_accuracy: 0.0328 - factorized_top_k/top_10_categorical_accuracy: 0.0638 - factorized_top_k/top_50_categorical_accuracy: 0.2365 - factorized_top_k/top_100_categorical_accuracy: 0.3758 - loss: 64191.8707 - regularization_loss: 0.0000e+00 - total_loss: 64191.8707\n",
      "Epoch 9/10\n",
      "10/10 [==============================] - 3s 334ms/step - root_mean_squared_error: 3.7933 - factorized_top_k: 0.1450 - factorized_top_k/top_1_categorical_accuracy: 0.0046 - factorized_top_k/top_5_categorical_accuracy: 0.0337 - factorized_top_k/top_10_categorical_accuracy: 0.0652 - factorized_top_k/top_50_categorical_accuracy: 0.2403 - factorized_top_k/top_100_categorical_accuracy: 0.3814 - loss: 63977.7564 - regularization_loss: 0.0000e+00 - total_loss: 63977.7564\n",
      "Epoch 10/10\n",
      "10/10 [==============================] - 3s 334ms/step - root_mean_squared_error: 3.7953 - factorized_top_k: 0.1478 - factorized_top_k/top_1_categorical_accuracy: 0.0054 - factorized_top_k/top_5_categorical_accuracy: 0.0349 - factorized_top_k/top_10_categorical_accuracy: 0.0675 - factorized_top_k/top_50_categorical_accuracy: 0.2450 - factorized_top_k/top_100_categorical_accuracy: 0.3862 - loss: 63797.4517 - regularization_loss: 0.0000e+00 - total_loss: 63797.4517\n",
      "5/5 [==============================] - 1s 105ms/step - root_mean_squared_error: 3.7985 - factorized_top_k: 0.0555 - factorized_top_k/top_1_categorical_accuracy: 5.0000e-05 - factorized_top_k/top_5_categorical_accuracy: 0.0028 - factorized_top_k/top_10_categorical_accuracy: 0.0085 - factorized_top_k/top_50_categorical_accuracy: 0.0832 - factorized_top_k/top_100_categorical_accuracy: 0.1831 - loss: 31696.2096 - regularization_loss: 0.0000e+00 - total_loss: 31696.2096\n",
      "Retrieval top-100 accuracy: 0.183.\n",
      "Ranking RMSE: 3.799.\n"
     ]
    }
   ],
   "source": [
    "model.fit(cached_train, epochs=10)\n",
    "metrics = model.evaluate(cached_test, return_dict=True)\n",
    "\n",
    "print(f\"Retrieval top-100 accuracy: {metrics['factorized_top_k/top_100_categorical_accuracy']:.3f}.\")\n",
    "print(f\"Ranking RMSE: {metrics['root_mean_squared_error']:.3f}.\")"
   ]
  },
  {
   "cell_type": "markdown",
   "metadata": {
    "colab_type": "text",
    "id": "YjM7j7eY_jPh"
   },
   "source": [
    "We get the opposite result: a model that does well on retrieval, but poorly on predicting ratings."
   ]
  },
  {
   "cell_type": "markdown",
   "metadata": {
    "colab_type": "text",
    "id": "hOFwjUus_pLU"
   },
   "source": [
    "### Joint model\n",
    "\n",
    "Let's now train a model that assigns positive weights to both tasks."
   ]
  },
  {
   "cell_type": "code",
   "execution_count": 12,
   "metadata": {
    "colab": {},
    "colab_type": "code",
    "execution": {
     "iopub.execute_input": "2020-10-01T11:40:43.536586Z",
     "iopub.status.busy": "2020-10-01T11:40:43.535934Z",
     "iopub.status.idle": "2020-10-01T11:40:43.618114Z",
     "shell.execute_reply": "2020-10-01T11:40:43.618519Z"
    },
    "id": "7xyDbNMf_t8a"
   },
   "outputs": [],
   "source": [
    "model = MovielensModel(rating_weight=1.0, retrieval_weight=1.0)\n",
    "model.compile(optimizer=tf.keras.optimizers.Adagrad(0.1))"
   ]
  },
  {
   "cell_type": "code",
   "execution_count": 18,
   "metadata": {
    "colab": {},
    "colab_type": "code",
    "execution": {
     "iopub.execute_input": "2020-10-01T11:40:43.624022Z",
     "iopub.status.busy": "2020-10-01T11:40:43.623383Z",
     "iopub.status.idle": "2020-10-01T11:40:52.430887Z",
     "shell.execute_reply": "2020-10-01T11:40:52.431341Z"
    },
    "id": "2pZmM_ub_uEO"
   },
   "outputs": [
    {
     "name": "stdout",
     "output_type": "stream",
     "text": [
      "Epoch 1/10\n",
      "10/10 [==============================] - 3s 337ms/step - root_mean_squared_error: 0.9775 - factorized_top_k: 0.1637 - factorized_top_k/top_1_categorical_accuracy: 0.0054 - factorized_top_k/top_5_categorical_accuracy: 0.0395 - factorized_top_k/top_10_categorical_accuracy: 0.0759 - factorized_top_k/top_50_categorical_accuracy: 0.2729 - factorized_top_k/top_100_categorical_accuracy: 0.4248 - loss: 62668.1335 - regularization_loss: 0.0000e+00 - total_loss: 62668.1335\n",
      "Epoch 2/10\n",
      "10/10 [==============================] - 3s 342ms/step - root_mean_squared_error: 0.9744 - factorized_top_k: 0.1643 - factorized_top_k/top_1_categorical_accuracy: 0.0052 - factorized_top_k/top_5_categorical_accuracy: 0.0396 - factorized_top_k/top_10_categorical_accuracy: 0.0764 - factorized_top_k/top_50_categorical_accuracy: 0.2742 - factorized_top_k/top_100_categorical_accuracy: 0.4261 - loss: 62631.8224 - regularization_loss: 0.0000e+00 - total_loss: 62631.8224\n",
      "Epoch 3/10\n",
      "10/10 [==============================] - 3s 333ms/step - root_mean_squared_error: 0.9710 - factorized_top_k: 0.1653 - factorized_top_k/top_1_categorical_accuracy: 0.0061 - factorized_top_k/top_5_categorical_accuracy: 0.0395 - factorized_top_k/top_10_categorical_accuracy: 0.0772 - factorized_top_k/top_50_categorical_accuracy: 0.2757 - factorized_top_k/top_100_categorical_accuracy: 0.4279 - loss: 62597.7741 - regularization_loss: 0.0000e+00 - total_loss: 62597.7741\n",
      "Epoch 4/10\n",
      "10/10 [==============================] - 3s 334ms/step - root_mean_squared_error: 0.9684 - factorized_top_k: 0.1659 - factorized_top_k/top_1_categorical_accuracy: 0.0056 - factorized_top_k/top_5_categorical_accuracy: 0.0403 - factorized_top_k/top_10_categorical_accuracy: 0.0774 - factorized_top_k/top_50_categorical_accuracy: 0.2769 - factorized_top_k/top_100_categorical_accuracy: 0.4290 - loss: 62565.7550 - regularization_loss: 0.0000e+00 - total_loss: 62565.7550\n",
      "Epoch 5/10\n",
      "10/10 [==============================] - 3s 334ms/step - root_mean_squared_error: 0.9672 - factorized_top_k: 0.1666 - factorized_top_k/top_1_categorical_accuracy: 0.0060 - factorized_top_k/top_5_categorical_accuracy: 0.0405 - factorized_top_k/top_10_categorical_accuracy: 0.0776 - factorized_top_k/top_50_categorical_accuracy: 0.2783 - factorized_top_k/top_100_categorical_accuracy: 0.4306 - loss: 62535.5668 - regularization_loss: 0.0000e+00 - total_loss: 62535.5668\n",
      "Epoch 6/10\n",
      "10/10 [==============================] - 3s 332ms/step - root_mean_squared_error: 0.9661 - factorized_top_k: 0.1674 - factorized_top_k/top_1_categorical_accuracy: 0.0063 - factorized_top_k/top_5_categorical_accuracy: 0.0410 - factorized_top_k/top_10_categorical_accuracy: 0.0781 - factorized_top_k/top_50_categorical_accuracy: 0.2792 - factorized_top_k/top_100_categorical_accuracy: 0.4323 - loss: 62507.0273 - regularization_loss: 0.0000e+00 - total_loss: 62507.0273\n",
      "Epoch 7/10\n",
      "10/10 [==============================] - 3s 332ms/step - root_mean_squared_error: 0.9627 - factorized_top_k: 0.1679 - factorized_top_k/top_1_categorical_accuracy: 0.0062 - factorized_top_k/top_5_categorical_accuracy: 0.0412 - factorized_top_k/top_10_categorical_accuracy: 0.0783 - factorized_top_k/top_50_categorical_accuracy: 0.2801 - factorized_top_k/top_100_categorical_accuracy: 0.4337 - loss: 62479.9865 - regularization_loss: 0.0000e+00 - total_loss: 62479.9865\n",
      "Epoch 8/10\n",
      "10/10 [==============================] - 3s 333ms/step - root_mean_squared_error: 0.9579 - factorized_top_k: 0.1682 - factorized_top_k/top_1_categorical_accuracy: 0.0058 - factorized_top_k/top_5_categorical_accuracy: 0.0407 - factorized_top_k/top_10_categorical_accuracy: 0.0783 - factorized_top_k/top_50_categorical_accuracy: 0.2809 - factorized_top_k/top_100_categorical_accuracy: 0.4352 - loss: 62454.3097 - regularization_loss: 0.0000e+00 - total_loss: 62454.3097\n",
      "Epoch 9/10\n",
      "10/10 [==============================] - 3s 337ms/step - root_mean_squared_error: 0.9551 - factorized_top_k: 0.1687 - factorized_top_k/top_1_categorical_accuracy: 0.0058 - factorized_top_k/top_5_categorical_accuracy: 0.0408 - factorized_top_k/top_10_categorical_accuracy: 0.0786 - factorized_top_k/top_50_categorical_accuracy: 0.2819 - factorized_top_k/top_100_categorical_accuracy: 0.4362 - loss: 62429.8974 - regularization_loss: 0.0000e+00 - total_loss: 62429.8974\n",
      "Epoch 10/10\n",
      "10/10 [==============================] - 3s 333ms/step - root_mean_squared_error: 0.9569 - factorized_top_k: 0.1694 - factorized_top_k/top_1_categorical_accuracy: 0.0063 - factorized_top_k/top_5_categorical_accuracy: 0.0413 - factorized_top_k/top_10_categorical_accuracy: 0.0790 - factorized_top_k/top_50_categorical_accuracy: 0.2828 - factorized_top_k/top_100_categorical_accuracy: 0.4378 - loss: 62406.6353 - regularization_loss: 0.0000e+00 - total_loss: 62406.6353\n",
      "5/5 [==============================] - 1s 109ms/step - root_mean_squared_error: 0.9865 - factorized_top_k: 0.0491 - factorized_top_k/top_1_categorical_accuracy: 1.0000e-04 - factorized_top_k/top_5_categorical_accuracy: 0.0014 - factorized_top_k/top_10_categorical_accuracy: 0.0049 - factorized_top_k/top_50_categorical_accuracy: 0.0671 - factorized_top_k/top_100_categorical_accuracy: 0.1720 - loss: 32520.8216 - regularization_loss: 0.0000e+00 - total_loss: 32520.8216\n",
      "Retrieval top-100 accuracy: 0.172.\n",
      "Ranking RMSE: 0.987.\n"
     ]
    }
   ],
   "source": [
    "model.fit(cached_train, epochs=10)\n",
    "metrics = model.evaluate(cached_test, return_dict=True)\n",
    "\n",
    "print(f\"Retrieval top-100 accuracy: {metrics['factorized_top_k/top_100_categorical_accuracy']:.3f}.\")\n",
    "print(f\"Ranking RMSE: {metrics['root_mean_squared_error']:.3f}.\")"
   ]
  },
  {
   "cell_type": "markdown",
   "metadata": {
    "colab_type": "text",
    "id": "Ni_rkOsaB3f9"
   },
   "source": [
    "The result is a model that performs roughly as well on both tasks as each specialized model. \n",
    "\n",
    "While the results here do not show a clear accuracy benefit from a joint model in this case, multi-task learning is in general an extremely useful tool. We can expect better results when we can transfer knowledge from a data-abundant task (such as clicks) to a closely related data-sparse task (such as purchases)."
   ]
  }
 ],
 "metadata": {
  "colab": {
   "collapsed_sections": [],
   "name": "multitask.ipynb",
   "private_outputs": true,
   "provenance": [],
   "toc_visible": true
  },
  "kernelspec": {
   "display_name": "Python 3",
   "language": "python",
   "name": "python3"
  },
  "language_info": {
   "codemirror_mode": {
    "name": "ipython",
    "version": 3
   },
   "file_extension": ".py",
   "mimetype": "text/x-python",
   "name": "python",
   "nbconvert_exporter": "python",
   "pygments_lexer": "ipython3",
   "version": "3.8.5"
  }
 },
 "nbformat": 4,
 "nbformat_minor": 1
}
